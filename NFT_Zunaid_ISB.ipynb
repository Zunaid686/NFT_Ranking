{
  "nbformat": 4,
  "nbformat_minor": 0,
  "metadata": {
    "colab": {
      "provenance": [],
      "include_colab_link": true
    },
    "kernelspec": {
      "name": "python3",
      "display_name": "Python 3"
    },
    "language_info": {
      "name": "python"
    }
  },
  "cells": [
    {
      "cell_type": "markdown",
      "metadata": {
        "id": "view-in-github",
        "colab_type": "text"
      },
      "source": [
        "<a href=\"https://colab.research.google.com/github/Zunaid686/NFT_Ranking/blob/main/NFT_Zunaid_ISB.ipynb\" target=\"_parent\"><img src=\"https://colab.research.google.com/assets/colab-badge.svg\" alt=\"Open In Colab\"/></a>"
      ]
    },
    {
      "cell_type": "code",
      "execution_count": null,
      "metadata": {
        "id": "J11FmDgvb1nr"
      },
      "outputs": [],
      "source": [
        "from bs4 import BeautifulSoup\n",
        "import urllib\n",
        "from urllib.request import urlopen\n",
        "import requests"
      ]
    },
    {
      "cell_type": "code",
      "source": [
        "data = []\n",
        "your_url = \"https://raritysniper.com/nft-collections\"\n",
        "html_page = requests.get(your_url).text"
      ],
      "metadata": {
        "id": "4AnU49IFb59l"
      },
      "execution_count": null,
      "outputs": []
    },
    {
      "cell_type": "code",
      "source": [
        "print(html_page)"
      ],
      "metadata": {
        "id": "K_xVXWKKb7oD"
      },
      "execution_count": null,
      "outputs": []
    },
    {
      "cell_type": "code",
      "source": [
        "#defining header\n",
        "header= {'User-Agent': 'Mozilla/5.0 (X11; Linux x86_64) ' \n",
        "      'AppleWebKit/537.11 (KHTML, like Gecko) '\n",
        "      'Chrome/23.0.1271.64 Safari/537.11',\n",
        "      'Accept': 'text/html,application/xhtml+xml,application/xml;q=0.9,*/*;q=0.8',\n",
        "      'Accept-Charset': 'ISO-8859-1,utf-8;q=0.7,*;q=0.3',\n",
        "      'Accept-Encoding': 'none',\n",
        "      'Accept-Language': 'en-US,en;q=0.8',\n",
        "      'Connection': 'keep-alive'}\n",
        "\n",
        "your_url = \"https://raritysniper.com/nft-collections\"\n",
        "req = urllib.request.Request"
      ],
      "metadata": {
        "id": "kG97sWcecCtp"
      },
      "execution_count": null,
      "outputs": []
    },
    {
      "cell_type": "code",
      "source": [
        "data = []\n",
        "your_url = \"https://raritysniper.com/nft-collections\"\n",
        "html_page = requests.get(your_url).text"
      ],
      "metadata": {
        "id": "bVt7zHet7yX9"
      },
      "execution_count": null,
      "outputs": []
    },
    {
      "cell_type": "code",
      "source": [
        "soup = BeautifulSoup(html_page)\n",
        "NFT_logos = []\n",
        "NFT_links = []\n",
        "NFT_HTML = []\n",
        "\n",
        "for NFT in soup.findAll('img'):\n",
        "    NFT_logos.append(NFT.get('alt'))\n",
        "    NFT_links.append(NFT.get('src'))\n",
        "    NFT_HTML.append(NFT)\n",
        "    \n",
        "NFT_logos\n",
        "\n",
        "NFT_HREF=[]\n",
        "for NFT in soup.findAll('a'):\n",
        "  NFT_HREF.append(NFT.get('href'))\n",
        "\n",
        "NFT_HREF"
      ],
      "metadata": {
        "colab": {
          "base_uri": "https://localhost:8080/"
        },
        "id": "Rt4tPRwVcFIN",
        "outputId": "caa9ddb3-a0b4-41ee-af1b-306ba396ae99"
      },
      "execution_count": null,
      "outputs": [
        {
          "output_type": "execute_result",
          "data": {
            "text/plain": [
              "['/',\n",
              " '/nft-collections',\n",
              " '/nft-drops-calendar',\n",
              " '/news',\n",
              " '/nft-price-stats',\n",
              " '/news/category/new-features',\n",
              " '/get-listed',\n",
              " 'https://twitter.com/RaritySniperNFT',\n",
              " 'https://discord.gg/raritysniper',\n",
              " '/terms',\n",
              " '/privacy',\n",
              " '/',\n",
              " '/nft-collections',\n",
              " 'https://imaginaryones.com/',\n",
              " 'https://twitter.com/Imaginary_Ones',\n",
              " 'https://imaginaryones.com/',\n",
              " 'https://discord.com/invite/io-imaginary-ones',\n",
              " 'https://www.charlessalvadorbronson.com/',\n",
              " 'https://twitter.com/bronsonnftt',\n",
              " 'https://www.charlessalvadorbronson.com/',\n",
              " 'https://discord.gg/D4y8bu3zC9',\n",
              " '/utopia-avatars',\n",
              " '/spooky-boys-country-club',\n",
              " '/meka-drivers',\n",
              " '/hmn5',\n",
              " '/diesel-x-hape',\n",
              " '/aiko-beanz',\n",
              " '/rug-radio-faces-of-web3-by-cory-van-lew',\n",
              " '/geishas-gardens',\n",
              " '/jacked-degenerates',\n",
              " '/knights-who-say-nah-warriors',\n",
              " '/the-bobo-council',\n",
              " '/always-tired',\n",
              " '/hangry-barboons',\n",
              " '/ceci-n-est-pas-un-botto',\n",
              " '/hasbulla',\n",
              " '/angry-apes-society',\n",
              " '/degenskellies',\n",
              " '/bitgoatz',\n",
              " '/mighty-hercules',\n",
              " '/nutsdao-poker-players',\n",
              " '/kozmonautslta',\n",
              " '/wilder-beasts-wape',\n",
              " '/vandals-union',\n",
              " '/dr-vrs']"
            ]
          },
          "metadata": {},
          "execution_count": 43
        }
      ]
    },
    {
      "cell_type": "code",
      "source": [
        "soup = BeautifulSoup(html_page)\n",
        "nft_rank=[]\n",
        "nft_score=[]\n",
        "nft_id=[]\n",
        "for i in "
      ],
      "metadata": {
        "id": "82LeXImP683N"
      },
      "execution_count": null,
      "outputs": []
    },
    {
      "cell_type": "code",
      "source": [
        "NFT_HTML[35]"
      ],
      "metadata": {
        "colab": {
          "base_uri": "https://localhost:8080/"
        },
        "id": "terg2omvcRL6",
        "outputId": "168544f7-f409-47dc-ba43-eeb63aea5723"
      },
      "execution_count": null,
      "outputs": [
        {
          "output_type": "execute_result",
          "data": {
            "text/plain": [
              "<img alt=\"Stay Sane, By Charles Bronson\" class=\"w-full h-full align-middle object-cover dark:brightness-80 dark:contrast-103 svelte-f3nlpp opacity-0 absolute\" decoding=\"async\" loading=\"lazy\" src=\"https://media.raritysniper.com/featured/stay-sane-by-charles-bronson_1677608068015_1.webp\"/>"
            ]
          },
          "metadata": {},
          "execution_count": 5
        }
      ]
    },
    {
      "cell_type": "code",
      "source": [
        "NFT_HTML[36]"
      ],
      "metadata": {
        "colab": {
          "base_uri": "https://localhost:8080/"
        },
        "id": "p_QAm-j8cSGg",
        "outputId": "9ac048f1-8940-4a78-e6ea-569e72cc21a5"
      },
      "execution_count": null,
      "outputs": [
        {
          "output_type": "execute_result",
          "data": {
            "text/plain": [
              "<img alt=\"Stay Sane, By Charles Bronson\" class=\"w-full h-full align-middle object-cover placeholder dark:hidden svelte-f3nlpp\" src=\"/assets/img/rarity-loading.gif\"/>"
            ]
          },
          "metadata": {},
          "execution_count": 6
        }
      ]
    },
    {
      "cell_type": "code",
      "source": [
        "NFT_HTML[37]"
      ],
      "metadata": {
        "colab": {
          "base_uri": "https://localhost:8080/"
        },
        "id": "iniccHEQcSwK",
        "outputId": "a93aa389-84df-4bf5-ecbb-b033e0cd3bd1"
      },
      "execution_count": null,
      "outputs": [
        {
          "output_type": "execute_result",
          "data": {
            "text/plain": [
              "<img alt=\"Stay Sane, By Charles Bronson\" class=\"w-full h-full align-middle object-cover placeholder hidden dark:block svelte-f3nlpp\" src=\"/assets/img/rarity-loading-dark.gif\"/>"
            ]
          },
          "metadata": {},
          "execution_count": 7
        }
      ]
    },
    {
      "cell_type": "code",
      "source": [
        "NFT_HTML"
      ],
      "metadata": {
        "id": "hvJsdBQBcZFY"
      },
      "execution_count": null,
      "outputs": []
    },
    {
      "cell_type": "code",
      "source": [
        "soup = BeautifulSoup(html_page)\n",
        "NFT_logos = []\n",
        "NFT_links = []\n",
        "NFT_HTML = []\n",
        "for NFT in soup.findAll('img'):\n",
        "    if 'https' in NFT.get('src'):\n",
        "        NFT_logos.append(NFT.get('alt'))\n",
        "        NFT_links.append(NFT.get('src'))\n",
        "        NFT_HTML.append(NFT)\n",
        "    else:\n",
        "        continue"
      ],
      "metadata": {
        "id": "-7BVkhTYcdMt"
      },
      "execution_count": null,
      "outputs": []
    },
    {
      "cell_type": "code",
      "source": [
        "NFT_logos"
      ],
      "metadata": {
        "id": "rF2BIQ7vcfmt"
      },
      "execution_count": null,
      "outputs": []
    },
    {
      "cell_type": "code",
      "source": [
        "soup = BeautifulSoup(html_page)\n",
        "NFT_logos = []\n",
        "NFT_links = []\n",
        "NFT_HTML = []\n",
        "for NFT in soup.findAll('img'):\n",
        "    if ('https' in NFT.get('src')) & (NFT.get('alt') != 'logo') :\n",
        "        NFT_logos.append(NFT.get('alt'))\n",
        "        NFT_links.append(NFT.get('src'))\n",
        "        NFT_HTML.append(NFT)\n",
        "    else:\n",
        "        continue"
      ],
      "metadata": {
        "id": "1BpCBk3dcjCV"
      },
      "execution_count": null,
      "outputs": []
    },
    {
      "cell_type": "code",
      "source": [
        "NFT_logos\n",
        "type(NFT_logos)"
      ],
      "metadata": {
        "colab": {
          "base_uri": "https://localhost:8080/"
        },
        "id": "0ypENsEdcpUa",
        "outputId": "5c6e93cf-c841-4e71-a533-d4915a9e83f5"
      },
      "execution_count": null,
      "outputs": [
        {
          "output_type": "execute_result",
          "data": {
            "text/plain": [
              "list"
            ]
          },
          "metadata": {},
          "execution_count": 12
        }
      ]
    },
    {
      "cell_type": "code",
      "source": [
        "NFT_links"
      ],
      "metadata": {
        "id": "3BX6i01GcpRA"
      },
      "execution_count": null,
      "outputs": []
    },
    {
      "cell_type": "code",
      "source": [
        "type(NFT_links)"
      ],
      "metadata": {
        "colab": {
          "base_uri": "https://localhost:8080/"
        },
        "id": "EjfS92YAhYze",
        "outputId": "09e5c450-dbc7-44dd-b94c-123f401a8f5b"
      },
      "execution_count": null,
      "outputs": [
        {
          "output_type": "execute_result",
          "data": {
            "text/plain": [
              "list"
            ]
          },
          "metadata": {},
          "execution_count": 27
        }
      ]
    },
    {
      "cell_type": "code",
      "source": [
        "type(df)"
      ],
      "metadata": {
        "colab": {
          "base_uri": "https://localhost:8080/"
        },
        "id": "gwfkS6ikgPnr",
        "outputId": "5a0e1d3a-919e-4898-da21-98f08b301706"
      },
      "execution_count": null,
      "outputs": [
        {
          "output_type": "execute_result",
          "data": {
            "text/plain": [
              "pandas.core.frame.DataFrame"
            ]
          },
          "metadata": {},
          "execution_count": 26
        }
      ]
    },
    {
      "cell_type": "code",
      "source": [
        "series = pd.Series(NFT_links, index=NFT_logos)"
      ],
      "metadata": {
        "id": "-ruMw1tzjJwH"
      },
      "execution_count": null,
      "outputs": []
    },
    {
      "cell_type": "code",
      "source": [
        "print(series)"
      ],
      "metadata": {
        "id": "ArWIY79IjV2C"
      },
      "execution_count": null,
      "outputs": []
    },
    {
      "cell_type": "code",
      "source": [
        "import requests\n",
        "from bs4 import BeautifulSoup\n",
        "\n",
        "# Send a GET request to the webpage\n",
        "url = \"https://raritysniper.com/nft-collections\"\n",
        "response = requests.get(url)\n",
        "\n",
        "# Use BeautifulSoup to parse the webpage content\n",
        "soup = BeautifulSoup(response.content, 'html.parser')\n",
        "\n",
        "# Find all the collections and their URLs\n",
        "nft_name=[]\n",
        "nfl_url=[]\n",
        "collections = soup.find_all('div', class_='card mb-3')\n",
        "for collection in collections:\n",
        "    name = collection.find('h5', class_='card-title').text.strip()\n",
        "    url = collection.find('a')['href']\n",
        "    print(name, url)\n",
        "    nft_name.append(name)\n",
        "    nfl_url.append(url)\n",
        "\n"
      ],
      "metadata": {
        "id": "1OewBap9yN0m"
      },
      "execution_count": null,
      "outputs": []
    },
    {
      "cell_type": "code",
      "source": [
        "print(nft_name)"
      ],
      "metadata": {
        "colab": {
          "base_uri": "https://localhost:8080/"
        },
        "id": "_2odMXETyxYr",
        "outputId": "9ef01082-b335-470c-c29a-c6393bd791b5"
      },
      "execution_count": null,
      "outputs": [
        {
          "output_type": "stream",
          "name": "stdout",
          "text": [
            "[]\n"
          ]
        }
      ]
    },
    {
      "cell_type": "markdown",
      "source": [
        "next webpage link generate"
      ],
      "metadata": {
        "id": "rlBRmqMcJgt9"
      }
    },
    {
      "cell_type": "code",
      "source": [
        "soup = BeautifulSoup(html_page)\n",
        "\n",
        "NFT_logos\n",
        "\n",
        "NFT_HREF=[]\n",
        "for NFT in soup.findAll('a'):\n",
        "  NFT_HREF.append(NFT.get('href'))\n",
        "\n",
        "NFT_HREF"
      ],
      "metadata": {
        "id": "1bUX2lLqJgP0"
      },
      "execution_count": null,
      "outputs": []
    },
    {
      "cell_type": "code",
      "source": [
        "N_link=[]\n",
        "given_link = \"https://raritysniper.com\"\n",
        "for i in NFT_HREF:\n",
        "  new_link = \"{}{}\".format(given_link, i)\n",
        "  N_link.append(new_link)\n",
        "  # print(new_link)\n",
        "print(N_link)"
      ],
      "metadata": {
        "colab": {
          "base_uri": "https://localhost:8080/"
        },
        "id": "0zvg3CjHJqB1",
        "outputId": "2460a74a-265b-4cd9-ad46-cafd6af33895"
      },
      "execution_count": null,
      "outputs": [
        {
          "output_type": "stream",
          "name": "stdout",
          "text": [
            "['https://raritysniper.com/', 'https://raritysniper.com/nft-collections', 'https://raritysniper.com/nft-drops-calendar', 'https://raritysniper.com/news', 'https://raritysniper.com/nft-price-stats', 'https://raritysniper.com/news/category/new-features', 'https://raritysniper.com/get-listed', 'https://raritysniper.comhttps://twitter.com/RaritySniperNFT', 'https://raritysniper.comhttps://discord.gg/raritysniper', 'https://raritysniper.com/terms', 'https://raritysniper.com/privacy', 'https://raritysniper.com/', 'https://raritysniper.com/nft-collections', 'https://raritysniper.comhttps://imaginaryones.com/', 'https://raritysniper.comhttps://twitter.com/Imaginary_Ones', 'https://raritysniper.comhttps://imaginaryones.com/', 'https://raritysniper.comhttps://discord.com/invite/io-imaginary-ones', 'https://raritysniper.comhttps://www.charlessalvadorbronson.com/', 'https://raritysniper.comhttps://twitter.com/bronsonnftt', 'https://raritysniper.comhttps://www.charlessalvadorbronson.com/', 'https://raritysniper.comhttps://discord.gg/D4y8bu3zC9', 'https://raritysniper.com/utopia-avatars', 'https://raritysniper.com/spooky-boys-country-club', 'https://raritysniper.com/meka-drivers', 'https://raritysniper.com/hmn5', 'https://raritysniper.com/diesel-x-hape', 'https://raritysniper.com/aiko-beanz', 'https://raritysniper.com/rug-radio-faces-of-web3-by-cory-van-lew', 'https://raritysniper.com/geishas-gardens', 'https://raritysniper.com/jacked-degenerates', 'https://raritysniper.com/knights-who-say-nah-warriors', 'https://raritysniper.com/the-bobo-council', 'https://raritysniper.com/always-tired', 'https://raritysniper.com/hangry-barboons', 'https://raritysniper.com/ceci-n-est-pas-un-botto', 'https://raritysniper.com/hasbulla', 'https://raritysniper.com/angry-apes-society', 'https://raritysniper.com/degenskellies', 'https://raritysniper.com/bitgoatz', 'https://raritysniper.com/mighty-hercules', 'https://raritysniper.com/nutsdao-poker-players', 'https://raritysniper.com/kozmonautslta', 'https://raritysniper.com/wilder-beasts-wape', 'https://raritysniper.com/vandals-union', 'https://raritysniper.com/dr-vrs']\n"
          ]
        }
      ]
    },
    {
      "cell_type": "markdown",
      "source": [
        "Find RAnk"
      ],
      "metadata": {
        "id": "yPWnWTiUCqPB"
      }
    },
    {
      "cell_type": "code",
      "source": [
        "data = []\n",
        "for your_url in N_link:\n",
        "  html_page = requests.get(your_url).text"
      ],
      "metadata": {
        "id": "F3SawL1HKPFm"
      },
      "execution_count": null,
      "outputs": []
    },
    {
      "cell_type": "code",
      "source": [
        "soup = BeautifulSoup(html_page)\n",
        "ranks = []\n",
        "rarities = []\n",
        "nft_ids = []\n",
        "for row in soup.findAll('tr'):\n",
        "    cells = row.find_all(\"td\")\n",
        "    if len(cells) == 4:\n",
        "        ranks.append(int(cells[0].text.strip()))\n",
        "        rarities.append(int(cells[1].text.strip()))\n",
        "        nft_ids.append(cells[2].text.strip())\n",
        "    \n",
        "# NFT_logos\n",
        "\n",
        "# NFT_HREF=[]\n",
        "# for NFT in soup.findAll('a'):\n",
        "#   NFT_HREF.append(NFT.get('href'))\n",
        "\n",
        "# NFT_HREF\n",
        "print(ranks)"
      ],
      "metadata": {
        "id": "rk28u4CJKGRV"
      },
      "execution_count": null,
      "outputs": []
    }
  ]
}